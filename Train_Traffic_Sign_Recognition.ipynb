{
 "cells": [
  {
   "cell_type": "code",
   "execution_count": 5,
   "metadata": {
    "executionInfo": {
     "elapsed": 20,
     "status": "ok",
     "timestamp": 1751976409196,
     "user": {
      "displayName": "Marzan Hussain",
      "userId": "14239133555415492211"
     },
     "user_tz": -360
    },
    "id": "BYI4uQunq0ti"
   },
   "outputs": [],
   "source": [
    "import tensorflow as tf\n",
    "import matplotlib.pyplot as plt\n",
    "import pandas as pd\n",
    "import seaborn as sns"
   ]
  },
  {
   "cell_type": "code",
   "execution_count": 6,
   "metadata": {
    "colab": {
     "base_uri": "https://localhost:8080/"
    },
    "executionInfo": {
     "elapsed": 5208,
     "status": "ok",
     "timestamp": 1751976417560,
     "user": {
      "displayName": "Marzan Hussain",
      "userId": "14239133555415492211"
     },
     "user_tz": -360
    },
    "id": "gF1RY1V9WbCk",
    "outputId": "76b408cd-f536-4021-b588-dc64d50beaf7"
   },
   "outputs": [
    {
     "name": "stdout",
     "output_type": "stream",
     "text": [
      "Drive already mounted at /content/drive; to attempt to forcibly remount, call drive.mount(\"/content/drive\", force_remount=True).\n"
     ]
    }
   ],
   "source": [
    "from google.colab import drive\n",
    "drive.mount('/content/drive')\n"
   ]
  },
  {
   "cell_type": "code",
   "execution_count": 10,
   "metadata": {
    "executionInfo": {
     "elapsed": 5,
     "status": "ok",
     "timestamp": 1751976460147,
     "user": {
      "displayName": "Marzan Hussain",
      "userId": "14239133555415492211"
     },
     "user_tz": -360
    },
    "id": "iPkTVwVXlnV2"
   },
   "outputs": [],
   "source": [
    "train_zip_path = '/content/drive/MyDrive/Colab Notebooks/Train.zip'\n"
   ]
  },
  {
   "cell_type": "code",
   "execution_count": 11,
   "metadata": {
    "colab": {
     "base_uri": "https://localhost:8080/"
    },
    "executionInfo": {
     "elapsed": 6242,
     "status": "ok",
     "timestamp": 1751976469479,
     "user": {
      "displayName": "Marzan Hussain",
      "userId": "14239133555415492211"
     },
     "user_tz": -360
    },
    "id": "e1WInNF9mVV3",
    "outputId": "b42d6ad8-d98d-416c-87f1-789fbd35183e"
   },
   "outputs": [
    {
     "name": "stdout",
     "output_type": "stream",
     "text": [
      "Train folder contents: ['Dangerous curve to the left', 'Traffic signals', 'Speed Limit 80', 'Keep right', 'End speed + passing limits', 'Speed Limit 30', 'Speed Limit 50', 'Wild animals crossing', 'No vechiles', 'Double curve', 'Speed Limit 70', 'Children crossing', 'Priority road', 'Keep left', 'End no passing veh  3.5 tons', 'Bicycles crossing', 'Speed Limit 120', 'Ahead only', 'No passing for vechiles over 3.5 metric tons', 'Go straight or left', 'Go straight or right', 'General caution', 'Right-of-way at the next intersection', 'Pedestrians', 'Turn left ahead', 'Beware of icesnow', 'Turn right ahead', 'No entry', 'Yield', 'Dangerous curve to the right', 'Bumpy road', 'End of Speed Limit 80', 'Vechiles over 3.5 metric tons prohibited', 'Speed Limit 100', 'Stop', 'Speed Limit 60', 'Roundabout mandatory', 'Speed Limit 20', 'Road work', 'Slippery road', 'End of no passing', 'No passing', 'Road narrows on the right']\n"
     ]
    }
   ],
   "source": [
    "import zipfile\n",
    "\n",
    "with zipfile.ZipFile(train_zip_path, 'r') as zip_ref:\n",
    "    zip_ref.extractall('/content/train')\n",
    "\n",
    "\n",
    "\n",
    "import os\n",
    "import shutil\n",
    "\n",
    "def flatten_dataset(root_path):\n",
    "    nested_path = os.path.join(root_path, \"Train\")\n",
    "    if os.path.exists(nested_path):\n",
    "        for item in os.listdir(nested_path):\n",
    "            src = os.path.join(nested_path, item)\n",
    "            dst = os.path.join(root_path, item)\n",
    "            if not os.path.exists(dst):\n",
    "                shutil.move(src, dst)\n",
    "            else:\n",
    "                print(f\"Skipped: {dst} already exists.\")\n",
    "        shutil.rmtree(nested_path)\n",
    "\n",
    "flatten_dataset('/content/train')\n",
    "\n",
    "\n",
    "print(\"Train folder contents:\", os.listdir('/content/train'))"
   ]
  },
  {
   "cell_type": "code",
   "execution_count": null,
   "metadata": {
    "colab": {
     "base_uri": "https://localhost:8080/"
    },
    "executionInfo": {
     "elapsed": 3847,
     "status": "ok",
     "timestamp": 1751881817001,
     "user": {
      "displayName": "Marzan Hussain",
      "userId": "14239133555415492211"
     },
     "user_tz": -360
    },
    "id": "RhvE6kwzmizC",
    "outputId": "5b5a032c-506f-414a-e8ac-06913564f6de"
   },
   "outputs": [
    {
     "name": "stdout",
     "output_type": "stream",
     "text": [
      "Found 39209 files belonging to 43 classes.\n",
      "Using 31368 files for training.\n"
     ]
    }
   ],
   "source": [
    "dataset_path = \"/content/train\"\n",
    "image_size = (128, 128)\n",
    "batch_size = 32\n",
    "seed = 123\n",
    "\n",
    "# Training set (80%)\n",
    "training_set = tf.keras.utils.image_dataset_from_directory(\n",
    "    dataset_path,\n",
    "    validation_split=0.2,\n",
    "    subset=\"training\",\n",
    "    seed=seed,\n",
    "    labels=\"inferred\",\n",
    "    label_mode=\"categorical\",\n",
    "    image_size=image_size,\n",
    "    batch_size=batch_size,\n",
    "    shuffle=True\n",
    ")"
   ]
  },
  {
   "cell_type": "code",
   "execution_count": null,
   "metadata": {
    "colab": {
     "base_uri": "https://localhost:8080/"
    },
    "executionInfo": {
     "elapsed": 975,
     "status": "ok",
     "timestamp": 1751881818015,
     "user": {
      "displayName": "Marzan Hussain",
      "userId": "14239133555415492211"
     },
     "user_tz": -360
    },
    "id": "ddn3W_swmjqF",
    "outputId": "79a2a8d6-4eeb-427b-a6a7-aa34bca3af58"
   },
   "outputs": [
    {
     "name": "stdout",
     "output_type": "stream",
     "text": [
      "Found 39209 files belonging to 43 classes.\n",
      "Using 7841 files for validation.\n"
     ]
    }
   ],
   "source": [
    "# Validation set (20%)\n",
    "validation_set = tf.keras.utils.image_dataset_from_directory(\n",
    "    dataset_path,\n",
    "    validation_split=0.2,\n",
    "    subset=\"validation\",\n",
    "    seed=seed,\n",
    "    labels=\"inferred\",\n",
    "    label_mode=\"categorical\",\n",
    "    image_size=image_size,\n",
    "    batch_size=batch_size,\n",
    "    shuffle=True\n",
    ")"
   ]
  },
  {
   "cell_type": "code",
   "execution_count": null,
   "metadata": {
    "colab": {
     "base_uri": "https://localhost:8080/"
    },
    "executionInfo": {
     "elapsed": 15,
     "status": "ok",
     "timestamp": 1751881818035,
     "user": {
      "displayName": "Marzan Hussain",
      "userId": "14239133555415492211"
     },
     "user_tz": -360
    },
    "id": "gR5ykw1jqHU3",
    "outputId": "b42bde3b-b000-4794-a2f6-67c4db817b41"
   },
   "outputs": [
    {
     "data": {
      "text/plain": [
       "<_PrefetchDataset element_spec=(TensorSpec(shape=(None, 128, 128, 3), dtype=tf.float32, name=None), TensorSpec(shape=(None, 43), dtype=tf.float32, name=None))>"
      ]
     },
     "execution_count": 11,
     "metadata": {},
     "output_type": "execute_result"
    }
   ],
   "source": [
    "training_set"
   ]
  },
  {
   "cell_type": "code",
   "execution_count": null,
   "metadata": {
    "colab": {
     "base_uri": "https://localhost:8080/"
    },
    "executionInfo": {
     "elapsed": 209,
     "status": "ok",
     "timestamp": 1751881818292,
     "user": {
      "displayName": "Marzan Hussain",
      "userId": "14239133555415492211"
     },
     "user_tz": -360
    },
    "id": "DUET7RRLqMCm",
    "outputId": "c2dd627d-c08d-4953-974e-afd50577a9e8"
   },
   "outputs": [
    {
     "name": "stdout",
     "output_type": "stream",
     "text": [
      "tf.Tensor(\n",
      "[[[[ 32.         29.         35.       ]\n",
      "   [ 32.         29.         35.       ]\n",
      "   [ 32.65625    30.148438   36.96875  ]\n",
      "   ...\n",
      "   [ 19.835938   17.835938   21.835938 ]\n",
      "   [ 20.         18.         22.       ]\n",
      "   [ 20.         18.         22.       ]]\n",
      "\n",
      "  [[ 32.         29.         35.       ]\n",
      "   [ 32.         29.         35.       ]\n",
      "   [ 32.65625    30.148438   36.96875  ]\n",
      "   ...\n",
      "   [ 19.835938   17.835938   21.835938 ]\n",
      "   [ 20.         18.         22.       ]\n",
      "   [ 20.         18.         22.       ]]\n",
      "\n",
      "  [[ 31.59375    28.796875   35.203125 ]\n",
      "   [ 31.59375    28.796875   35.203125 ]\n",
      "   [ 32.1167     29.812012   37.0719   ]\n",
      "   ...\n",
      "   [ 19.835938   17.902588   22.275513 ]\n",
      "   [ 20.         18.         22.40625  ]\n",
      "   [ 20.         18.         22.40625  ]]\n",
      "\n",
      "  ...\n",
      "\n",
      "  [[ 24.984375   24.1875     28.59375  ]\n",
      "   [ 24.984375   24.1875     28.59375  ]\n",
      "   [ 24.558838   23.926025   28.988525 ]\n",
      "   ...\n",
      "   [ 22.969238   27.144775   28.382812 ]\n",
      "   [ 23.         27.40625    28.21875  ]\n",
      "   [ 23.         27.40625    28.21875  ]]\n",
      "\n",
      "  [[ 26.         25.         29.       ]\n",
      "   [ 26.         25.         29.       ]\n",
      "   [ 25.507812   24.671875   29.328125 ]\n",
      "   ...\n",
      "   [ 22.835938   26.671875   27.164062 ]\n",
      "   [ 23.         27.         27.       ]\n",
      "   [ 23.         27.         27.       ]]\n",
      "\n",
      "  [[ 26.         25.         29.       ]\n",
      "   [ 26.         25.         29.       ]\n",
      "   [ 25.507812   24.671875   29.328125 ]\n",
      "   ...\n",
      "   [ 22.835938   26.671875   27.164062 ]\n",
      "   [ 23.         27.         27.       ]\n",
      "   [ 23.         27.         27.       ]]]\n",
      "\n",
      "\n",
      " [[[ 69.         70.         52.       ]\n",
      "   [ 69.109375   69.34375    52.109375 ]\n",
      "   [ 69.515625   66.90625    52.515625 ]\n",
      "   ...\n",
      "   [ 42.125      32.0625     34.03125  ]\n",
      "   [ 38.875      30.4375     33.21875  ]\n",
      "   [ 38.         30.         33.       ]]\n",
      "\n",
      "  [[ 69.6875     70.         52.       ]\n",
      "   [ 69.73535    69.32324    52.109375 ]\n",
      "   [ 69.913086   66.80957    52.515625 ]\n",
      "   ...\n",
      "   [ 42.088867   32.183594   34.311523 ]\n",
      "   [ 38.96582    30.660156   33.524414 ]\n",
      "   [ 38.125      30.25       33.3125   ]]\n",
      "\n",
      "  [[ 73.8125     70.         52.       ]\n",
      "   [ 73.49121    69.200195   52.109375 ]\n",
      "   [ 72.29785    66.22949    52.515625 ]\n",
      "   ...\n",
      "   [ 41.87207    32.910156   35.993164 ]\n",
      "   [ 39.510742   31.996094   35.3584   ]\n",
      "   [ 38.875      31.75       35.1875   ]]\n",
      "\n",
      "  ...\n",
      "\n",
      "  [[136.6875     80.25       55.375    ]\n",
      "   [136.05176    81.17969    56.913086 ]\n",
      "   [133.69043    84.63281    62.625977 ]\n",
      "   ...\n",
      "   [ 86.84082    79.77344    86.88086  ]\n",
      "   [ 47.916992   41.789062   46.103516 ]\n",
      "   [ 37.4375     31.5625     35.125    ]]\n",
      "\n",
      "  [[137.8125     81.75       57.625    ]\n",
      "   [136.97168    82.35156    58.875977 ]\n",
      "   [133.84863    84.58594    63.52246  ]\n",
      "   ...\n",
      "   [ 87.43262    81.69531    88.791016 ]\n",
      "   [ 47.74707    42.492188   47.09961  ]\n",
      "   [ 37.0625     31.9375     35.875    ]]\n",
      "\n",
      "  [[138.         82.         58.       ]\n",
      "   [137.125      82.546875   59.203125 ]\n",
      "   [133.875      84.578125   63.671875 ]\n",
      "   ...\n",
      "   [ 87.53125    82.015625   89.109375 ]\n",
      "   [ 47.71875    42.609375   47.265625 ]\n",
      "   [ 37.         32.         36.       ]]]\n",
      "\n",
      "\n",
      " [[[131.        144.        167.       ]\n",
      "   [131.        144.        167.       ]\n",
      "   [133.44922   146.22656   169.0039   ]\n",
      "   ...\n",
      "   [155.        169.44531   200.33594  ]\n",
      "   [155.        169.        199.       ]\n",
      "   [155.        169.        199.       ]]\n",
      "\n",
      "  [[131.        144.        167.       ]\n",
      "   [131.        144.        167.       ]\n",
      "   [133.44922   146.22656   169.0039   ]\n",
      "   ...\n",
      "   [155.        169.44531   200.33594  ]\n",
      "   [155.        169.        199.       ]\n",
      "   [155.        169.        199.       ]]\n",
      "\n",
      "  [[130.47656   143.47656   165.42969  ]\n",
      "   [130.47656   143.47656   165.42969  ]\n",
      "   [132.86751   145.70312   167.66669  ]\n",
      "   ...\n",
      "   [155.05623   169.18155   200.18872  ]\n",
      "   [156.04688   169.78516   199.78516  ]\n",
      "   [156.04688   169.78516   199.78516  ]]\n",
      "\n",
      "  ...\n",
      "\n",
      "  [[ 16.261719   16.261719   19.261719 ]\n",
      "   [ 16.261719   16.261719   19.261719 ]\n",
      "   [ 16.261719   16.261719   19.319992 ]\n",
      "   ...\n",
      "   [ 28.598297   30.269531   35.91829  ]\n",
      "   [ 28.046875   30.046875   35.308594 ]\n",
      "   [ 28.046875   30.046875   35.308594 ]]\n",
      "\n",
      "  [[ 16.         16.         19.       ]\n",
      "   [ 16.         16.         19.       ]\n",
      "   [ 16.         16.         19.       ]\n",
      "   ...\n",
      "   [ 27.667969   29.222656   34.66797  ]\n",
      "   [ 27.         29.         34.       ]\n",
      "   [ 27.         29.         34.       ]]\n",
      "\n",
      "  [[ 16.         16.         19.       ]\n",
      "   [ 16.         16.         19.       ]\n",
      "   [ 16.         16.         19.       ]\n",
      "   ...\n",
      "   [ 27.667969   29.222656   34.66797  ]\n",
      "   [ 27.         29.         34.       ]\n",
      "   [ 27.         29.         34.       ]]]\n",
      "\n",
      "\n",
      " ...\n",
      "\n",
      "\n",
      " [[[ 31.         31.         34.       ]\n",
      "   [ 31.         31.         34.       ]\n",
      "   [ 31.         31.         34.054688 ]\n",
      "   ...\n",
      "   [255.        255.        255.       ]\n",
      "   [255.        255.        255.       ]\n",
      "   [255.        255.        255.       ]]\n",
      "\n",
      "  [[ 31.         31.         34.       ]\n",
      "   [ 31.         31.         34.       ]\n",
      "   [ 31.         31.         34.054688 ]\n",
      "   ...\n",
      "   [255.        255.        255.       ]\n",
      "   [255.        255.        255.       ]\n",
      "   [255.        255.        255.       ]]\n",
      "\n",
      "  [[ 31.         30.953125   34.       ]\n",
      "   [ 31.         30.953125   34.       ]\n",
      "   [ 31.002563   30.95697    34.05725  ]\n",
      "   ...\n",
      "   [255.        255.        255.       ]\n",
      "   [255.        255.        255.       ]\n",
      "   [255.        255.        255.       ]]\n",
      "\n",
      "  ...\n",
      "\n",
      "  [[ 31.375      39.71875    51.578125 ]\n",
      "   [ 31.375      39.71875    51.578125 ]\n",
      "   [ 31.376282   39.752502   51.505066 ]\n",
      "   ...\n",
      "   [ 25.873657   24.91925    31.872375 ]\n",
      "   [ 25.953125   25.         31.953125 ]\n",
      "   [ 25.953125   25.         31.953125 ]]\n",
      "\n",
      "  [[ 31.         40.         52.       ]\n",
      "   [ 31.         40.         52.       ]\n",
      "   [ 31.         40.027344   51.91797  ]\n",
      "   ...\n",
      "   [ 25.917969   24.917969   31.917969 ]\n",
      "   [ 26.         25.         32.       ]\n",
      "   [ 26.         25.         32.       ]]\n",
      "\n",
      "  [[ 31.         40.         52.       ]\n",
      "   [ 31.         40.         52.       ]\n",
      "   [ 31.         40.027344   51.91797  ]\n",
      "   ...\n",
      "   [ 25.917969   24.917969   31.917969 ]\n",
      "   [ 26.         25.         32.       ]\n",
      "   [ 26.         25.         32.       ]]]\n",
      "\n",
      "\n",
      " [[[255.        255.        255.       ]\n",
      "   [255.        255.        255.       ]\n",
      "   [255.        255.        255.       ]\n",
      "   ...\n",
      "   [ 23.898438   20.898438   22.796875 ]\n",
      "   [ 26.695312   26.390625   28.929688 ]\n",
      "   [ 29.         31.         34.       ]]\n",
      "\n",
      "  [[255.        255.        255.       ]\n",
      "   [255.        255.        255.       ]\n",
      "   [255.        255.        255.       ]\n",
      "   ...\n",
      "   [ 23.425781   20.898438   23.269531 ]\n",
      "   [ 26.477448   26.390625   29.402344 ]\n",
      "   [ 29.         31.         34.472656 ]]\n",
      "\n",
      "  [[255.        255.        255.       ]\n",
      "   [255.        255.        255.       ]\n",
      "   [255.        255.        254.9754   ]\n",
      "   ...\n",
      "   [ 22.910736   20.910736   23.700378 ]\n",
      "   [ 26.234375   26.390625   29.743317 ]\n",
      "   [ 29.         31.         34.757812 ]]\n",
      "\n",
      "  ...\n",
      "\n",
      "  [[ 48.242188   41.         37.121094 ]\n",
      "   [ 48.298004   41.516754   36.77179  ]\n",
      "   [ 48.52951    42.29962    36.52951  ]\n",
      "   ...\n",
      "   [ 48.01953    39.133392   34.254486 ]\n",
      "   [ 47.64731    38.64731    33.703125 ]\n",
      "   [ 47.242188   38.242188   33.242188 ]]\n",
      "\n",
      "  [[ 47.472656   41.527344   37.527344 ]\n",
      "   [ 47.472656   41.74521    37.066406 ]\n",
      "   [ 47.67578    42.149567   36.623352 ]\n",
      "   ...\n",
      "   [ 48.899567   39.527344   35.054688 ]\n",
      "   [ 48.515625   39.272552   34.515625 ]\n",
      "   [ 48.054688   39.054688   34.054688 ]]\n",
      "\n",
      "  [[ 47.         42.         38.       ]\n",
      "   [ 47.         42.         37.539062 ]\n",
      "   [ 47.203125   42.101562   37.       ]\n",
      "   ...\n",
      "   [ 49.796875   40.         36.       ]\n",
      "   [ 49.460938   40.         35.460938 ]\n",
      "   [ 49.         40.         35.       ]]]\n",
      "\n",
      "\n",
      " [[[ 13.         11.         15.       ]\n",
      "   [ 12.925781   11.074219   15.074219 ]\n",
      "   [ 12.542969   11.457031   15.457031 ]\n",
      "   ...\n",
      "   [ 13.         13.         16.       ]\n",
      "   [ 13.         13.         16.       ]\n",
      "   [ 13.         13.         16.       ]]\n",
      "\n",
      "  [[ 12.996094   11.         15.       ]\n",
      "   [ 12.921875   11.073929   15.074219 ]\n",
      "   [ 12.5390625  11.455246   15.457031 ]\n",
      "   ...\n",
      "   [ 13.         13.         16.       ]\n",
      "   [ 13.         13.         16.       ]\n",
      "   [ 13.         13.         16.       ]]\n",
      "\n",
      "  [[ 12.660156   11.         15.       ]\n",
      "   [ 12.5859375  11.048996   15.074219 ]\n",
      "   [ 12.203125   11.301712   15.457031 ]\n",
      "   ...\n",
      "   [ 13.         13.         16.       ]\n",
      "   [ 13.         13.         16.       ]\n",
      "   [ 13.         13.         16.       ]]\n",
      "\n",
      "  ...\n",
      "\n",
      "  [[ 19.         18.339844   20.679688 ]\n",
      "   [ 18.902008   18.216629   20.482254 ]\n",
      "   [ 18.396576   17.5811     19.463913 ]\n",
      "   ...\n",
      "   [  9.844681    8.184525   11.524368 ]\n",
      "   [  9.974777    8.314621   11.654465 ]\n",
      "   [ 10.          8.339844   11.6796875]]\n",
      "\n",
      "  [[ 19.         18.003906   20.007812 ]\n",
      "   [ 18.852142   17.855759   19.785446 ]\n",
      "   [ 18.089508   17.091629   18.638504 ]\n",
      "   ...\n",
      "   [  9.998215    8.002121   11.006027 ]\n",
      "   [  9.99971     8.003616   11.007523 ]\n",
      "   [ 10.          8.003906   11.0078125]]\n",
      "\n",
      "  [[ 19.         18.         20.       ]\n",
      "   [ 18.851562   17.851562   19.777344 ]\n",
      "   [ 18.085938   17.085938   18.628906 ]\n",
      "   ...\n",
      "   [ 10.          8.         11.       ]\n",
      "   [ 10.          8.         11.       ]\n",
      "   [ 10.          8.         11.       ]]]], shape=(32, 128, 128, 3), dtype=float32) (32, 128, 128, 3)\n",
      "tf.Tensor(\n",
      "[[0. 0. 0. ... 0. 0. 0.]\n",
      " [0. 0. 0. ... 0. 0. 0.]\n",
      " [0. 0. 0. ... 0. 0. 0.]\n",
      " ...\n",
      " [0. 0. 0. ... 0. 0. 0.]\n",
      " [0. 0. 0. ... 0. 0. 0.]\n",
      " [0. 0. 0. ... 0. 0. 0.]], shape=(32, 43), dtype=float32) (32, 43)\n"
     ]
    }
   ],
   "source": [
    "for x,y in training_set:\n",
    "    print(x, x.shape)\n",
    "    print(y, y.shape)\n",
    "    break"
   ]
  },
  {
   "cell_type": "code",
   "execution_count": null,
   "metadata": {
    "id": "bs-q1o6LqPa2"
   },
   "outputs": [],
   "source": [
    "from tensorflow.keras.layers import Dense, Conv2D, MaxPool2D, Flatten\n",
    "from tensorflow.keras.models import Sequential"
   ]
  },
  {
   "cell_type": "code",
   "execution_count": null,
   "metadata": {
    "id": "uvPoDqzdqV4G"
   },
   "outputs": [],
   "source": [
    "model = Sequential()"
   ]
  },
  {
   "cell_type": "code",
   "execution_count": null,
   "metadata": {
    "colab": {
     "base_uri": "https://localhost:8080/"
    },
    "executionInfo": {
     "elapsed": 693,
     "status": "ok",
     "timestamp": 1751881819021,
     "user": {
      "displayName": "Marzan Hussain",
      "userId": "14239133555415492211"
     },
     "user_tz": -360
    },
    "id": "c_cFqOcrqbE9",
    "outputId": "c90682e8-afb8-4df6-c43c-b41f290f074d"
   },
   "outputs": [
    {
     "name": "stderr",
     "output_type": "stream",
     "text": [
      "/usr/local/lib/python3.11/dist-packages/keras/src/layers/convolutional/base_conv.py:107: UserWarning: Do not pass an `input_shape`/`input_dim` argument to a layer. When using Sequential models, prefer using an `Input(shape)` object as the first layer in the model instead.\n",
      "  super().__init__(activity_regularizer=activity_regularizer, **kwargs)\n"
     ]
    }
   ],
   "source": [
    "model.add(Conv2D(filters=32, kernel_size=3, padding='same', activation='relu', input_shape=(128, 128, 3)))\n",
    "model.add(Conv2D(filters=32, kernel_size=3, activation='relu'))\n",
    "model.add(MaxPool2D(pool_size=2, strides=2))"
   ]
  },
  {
   "cell_type": "code",
   "execution_count": null,
   "metadata": {
    "id": "6vR7BBPRqdeV"
   },
   "outputs": [],
   "source": [
    "model.add(Conv2D(filters=64, kernel_size=3, padding='same', activation='relu'))\n",
    "model.add(Conv2D(filters=64, kernel_size=3, activation='relu'))\n",
    "model.add(MaxPool2D(pool_size=2, strides=2))"
   ]
  },
  {
   "cell_type": "code",
   "execution_count": null,
   "metadata": {
    "id": "rZHOGOfhqg5m"
   },
   "outputs": [],
   "source": [
    "model.add(Conv2D(filters=128, kernel_size=3, padding='same', activation='relu'))\n",
    "model.add(Conv2D(filters=128, kernel_size=3, activation='relu'))\n",
    "model.add(MaxPool2D(pool_size=2, strides=2))"
   ]
  },
  {
   "cell_type": "code",
   "execution_count": null,
   "metadata": {
    "id": "uxT8FXlZqnml"
   },
   "outputs": [],
   "source": [
    "model.add(Conv2D(filters=256, kernel_size=3, padding='same', activation='relu'))\n",
    "model.add(Conv2D(filters=256, kernel_size=3, activation='relu'))\n",
    "model.add(MaxPool2D(pool_size=2, strides=2))"
   ]
  },
  {
   "cell_type": "code",
   "execution_count": null,
   "metadata": {
    "id": "abDSxJ0qqpTl"
   },
   "outputs": [],
   "source": [
    "model.add(Flatten())"
   ]
  },
  {
   "cell_type": "code",
   "execution_count": null,
   "metadata": {
    "id": "v7DgS51Wqrf9"
   },
   "outputs": [],
   "source": [
    "# Hidden Layer\n",
    "model.add(Dense(units=1500, activation='relu'))"
   ]
  },
  {
   "cell_type": "code",
   "execution_count": null,
   "metadata": {
    "id": "jmx5GedsrBbt"
   },
   "outputs": [],
   "source": [
    "# Output Layer\n",
    "model.add(Dense(units=43, activation='softmax'))"
   ]
  },
  {
   "cell_type": "code",
   "execution_count": null,
   "metadata": {
    "id": "Yi_u28_DrDPV"
   },
   "outputs": [],
   "source": [
    "model.compile(optimizer=tf.keras.optimizers.Adam(learning_rate=0.0001), loss='categorical_crossentropy', metrics=['accuracy'])"
   ]
  },
  {
   "cell_type": "code",
   "execution_count": null,
   "metadata": {
    "colab": {
     "base_uri": "https://localhost:8080/",
     "height": 646
    },
    "executionInfo": {
     "elapsed": 101,
     "status": "ok",
     "timestamp": 1751881819405,
     "user": {
      "displayName": "Marzan Hussain",
      "userId": "14239133555415492211"
     },
     "user_tz": -360
    },
    "id": "obwN0DF-rLeT",
    "outputId": "b7d1192c-5de5-4d54-fdc1-13f94e53b9ab"
   },
   "outputs": [
    {
     "data": {
      "text/html": [
       "<pre style=\"white-space:pre;overflow-x:auto;line-height:normal;font-family:Menlo,'DejaVu Sans Mono',consolas,'Courier New',monospace\"><span style=\"font-weight: bold\">Model: \"sequential\"</span>\n",
       "</pre>\n"
      ],
      "text/plain": [
       "\u001b[1mModel: \"sequential\"\u001b[0m\n"
      ]
     },
     "metadata": {},
     "output_type": "display_data"
    },
    {
     "data": {
      "text/html": [
       "<pre style=\"white-space:pre;overflow-x:auto;line-height:normal;font-family:Menlo,'DejaVu Sans Mono',consolas,'Courier New',monospace\">┏━━━━━━━━━━━━━━━━━━━━━━━━━━━━━━━━━┳━━━━━━━━━━━━━━━━━━━━━━━━┳━━━━━━━━━━━━━━━┓\n",
       "┃<span style=\"font-weight: bold\"> Layer (type)                    </span>┃<span style=\"font-weight: bold\"> Output Shape           </span>┃<span style=\"font-weight: bold\">       Param # </span>┃\n",
       "┡━━━━━━━━━━━━━━━━━━━━━━━━━━━━━━━━━╇━━━━━━━━━━━━━━━━━━━━━━━━╇━━━━━━━━━━━━━━━┩\n",
       "│ conv2d (<span style=\"color: #0087ff; text-decoration-color: #0087ff\">Conv2D</span>)                 │ (<span style=\"color: #00d7ff; text-decoration-color: #00d7ff\">None</span>, <span style=\"color: #00af00; text-decoration-color: #00af00\">128</span>, <span style=\"color: #00af00; text-decoration-color: #00af00\">128</span>, <span style=\"color: #00af00; text-decoration-color: #00af00\">32</span>)   │           <span style=\"color: #00af00; text-decoration-color: #00af00\">896</span> │\n",
       "├─────────────────────────────────┼────────────────────────┼───────────────┤\n",
       "│ conv2d_1 (<span style=\"color: #0087ff; text-decoration-color: #0087ff\">Conv2D</span>)               │ (<span style=\"color: #00d7ff; text-decoration-color: #00d7ff\">None</span>, <span style=\"color: #00af00; text-decoration-color: #00af00\">126</span>, <span style=\"color: #00af00; text-decoration-color: #00af00\">126</span>, <span style=\"color: #00af00; text-decoration-color: #00af00\">32</span>)   │         <span style=\"color: #00af00; text-decoration-color: #00af00\">9,248</span> │\n",
       "├─────────────────────────────────┼────────────────────────┼───────────────┤\n",
       "│ max_pooling2d (<span style=\"color: #0087ff; text-decoration-color: #0087ff\">MaxPooling2D</span>)    │ (<span style=\"color: #00d7ff; text-decoration-color: #00d7ff\">None</span>, <span style=\"color: #00af00; text-decoration-color: #00af00\">63</span>, <span style=\"color: #00af00; text-decoration-color: #00af00\">63</span>, <span style=\"color: #00af00; text-decoration-color: #00af00\">32</span>)     │             <span style=\"color: #00af00; text-decoration-color: #00af00\">0</span> │\n",
       "├─────────────────────────────────┼────────────────────────┼───────────────┤\n",
       "│ conv2d_2 (<span style=\"color: #0087ff; text-decoration-color: #0087ff\">Conv2D</span>)               │ (<span style=\"color: #00d7ff; text-decoration-color: #00d7ff\">None</span>, <span style=\"color: #00af00; text-decoration-color: #00af00\">63</span>, <span style=\"color: #00af00; text-decoration-color: #00af00\">63</span>, <span style=\"color: #00af00; text-decoration-color: #00af00\">64</span>)     │        <span style=\"color: #00af00; text-decoration-color: #00af00\">18,496</span> │\n",
       "├─────────────────────────────────┼────────────────────────┼───────────────┤\n",
       "│ conv2d_3 (<span style=\"color: #0087ff; text-decoration-color: #0087ff\">Conv2D</span>)               │ (<span style=\"color: #00d7ff; text-decoration-color: #00d7ff\">None</span>, <span style=\"color: #00af00; text-decoration-color: #00af00\">61</span>, <span style=\"color: #00af00; text-decoration-color: #00af00\">61</span>, <span style=\"color: #00af00; text-decoration-color: #00af00\">64</span>)     │        <span style=\"color: #00af00; text-decoration-color: #00af00\">36,928</span> │\n",
       "├─────────────────────────────────┼────────────────────────┼───────────────┤\n",
       "│ max_pooling2d_1 (<span style=\"color: #0087ff; text-decoration-color: #0087ff\">MaxPooling2D</span>)  │ (<span style=\"color: #00d7ff; text-decoration-color: #00d7ff\">None</span>, <span style=\"color: #00af00; text-decoration-color: #00af00\">30</span>, <span style=\"color: #00af00; text-decoration-color: #00af00\">30</span>, <span style=\"color: #00af00; text-decoration-color: #00af00\">64</span>)     │             <span style=\"color: #00af00; text-decoration-color: #00af00\">0</span> │\n",
       "├─────────────────────────────────┼────────────────────────┼───────────────┤\n",
       "│ conv2d_4 (<span style=\"color: #0087ff; text-decoration-color: #0087ff\">Conv2D</span>)               │ (<span style=\"color: #00d7ff; text-decoration-color: #00d7ff\">None</span>, <span style=\"color: #00af00; text-decoration-color: #00af00\">30</span>, <span style=\"color: #00af00; text-decoration-color: #00af00\">30</span>, <span style=\"color: #00af00; text-decoration-color: #00af00\">128</span>)    │        <span style=\"color: #00af00; text-decoration-color: #00af00\">73,856</span> │\n",
       "├─────────────────────────────────┼────────────────────────┼───────────────┤\n",
       "│ conv2d_5 (<span style=\"color: #0087ff; text-decoration-color: #0087ff\">Conv2D</span>)               │ (<span style=\"color: #00d7ff; text-decoration-color: #00d7ff\">None</span>, <span style=\"color: #00af00; text-decoration-color: #00af00\">28</span>, <span style=\"color: #00af00; text-decoration-color: #00af00\">28</span>, <span style=\"color: #00af00; text-decoration-color: #00af00\">128</span>)    │       <span style=\"color: #00af00; text-decoration-color: #00af00\">147,584</span> │\n",
       "├─────────────────────────────────┼────────────────────────┼───────────────┤\n",
       "│ max_pooling2d_2 (<span style=\"color: #0087ff; text-decoration-color: #0087ff\">MaxPooling2D</span>)  │ (<span style=\"color: #00d7ff; text-decoration-color: #00d7ff\">None</span>, <span style=\"color: #00af00; text-decoration-color: #00af00\">14</span>, <span style=\"color: #00af00; text-decoration-color: #00af00\">14</span>, <span style=\"color: #00af00; text-decoration-color: #00af00\">128</span>)    │             <span style=\"color: #00af00; text-decoration-color: #00af00\">0</span> │\n",
       "├─────────────────────────────────┼────────────────────────┼───────────────┤\n",
       "│ conv2d_6 (<span style=\"color: #0087ff; text-decoration-color: #0087ff\">Conv2D</span>)               │ (<span style=\"color: #00d7ff; text-decoration-color: #00d7ff\">None</span>, <span style=\"color: #00af00; text-decoration-color: #00af00\">14</span>, <span style=\"color: #00af00; text-decoration-color: #00af00\">14</span>, <span style=\"color: #00af00; text-decoration-color: #00af00\">256</span>)    │       <span style=\"color: #00af00; text-decoration-color: #00af00\">295,168</span> │\n",
       "├─────────────────────────────────┼────────────────────────┼───────────────┤\n",
       "│ conv2d_7 (<span style=\"color: #0087ff; text-decoration-color: #0087ff\">Conv2D</span>)               │ (<span style=\"color: #00d7ff; text-decoration-color: #00d7ff\">None</span>, <span style=\"color: #00af00; text-decoration-color: #00af00\">12</span>, <span style=\"color: #00af00; text-decoration-color: #00af00\">12</span>, <span style=\"color: #00af00; text-decoration-color: #00af00\">256</span>)    │       <span style=\"color: #00af00; text-decoration-color: #00af00\">590,080</span> │\n",
       "├─────────────────────────────────┼────────────────────────┼───────────────┤\n",
       "│ max_pooling2d_3 (<span style=\"color: #0087ff; text-decoration-color: #0087ff\">MaxPooling2D</span>)  │ (<span style=\"color: #00d7ff; text-decoration-color: #00d7ff\">None</span>, <span style=\"color: #00af00; text-decoration-color: #00af00\">6</span>, <span style=\"color: #00af00; text-decoration-color: #00af00\">6</span>, <span style=\"color: #00af00; text-decoration-color: #00af00\">256</span>)      │             <span style=\"color: #00af00; text-decoration-color: #00af00\">0</span> │\n",
       "├─────────────────────────────────┼────────────────────────┼───────────────┤\n",
       "│ flatten (<span style=\"color: #0087ff; text-decoration-color: #0087ff\">Flatten</span>)               │ (<span style=\"color: #00d7ff; text-decoration-color: #00d7ff\">None</span>, <span style=\"color: #00af00; text-decoration-color: #00af00\">9216</span>)           │             <span style=\"color: #00af00; text-decoration-color: #00af00\">0</span> │\n",
       "├─────────────────────────────────┼────────────────────────┼───────────────┤\n",
       "│ dense (<span style=\"color: #0087ff; text-decoration-color: #0087ff\">Dense</span>)                   │ (<span style=\"color: #00d7ff; text-decoration-color: #00d7ff\">None</span>, <span style=\"color: #00af00; text-decoration-color: #00af00\">1500</span>)           │    <span style=\"color: #00af00; text-decoration-color: #00af00\">13,825,500</span> │\n",
       "├─────────────────────────────────┼────────────────────────┼───────────────┤\n",
       "│ dense_1 (<span style=\"color: #0087ff; text-decoration-color: #0087ff\">Dense</span>)                 │ (<span style=\"color: #00d7ff; text-decoration-color: #00d7ff\">None</span>, <span style=\"color: #00af00; text-decoration-color: #00af00\">43</span>)             │        <span style=\"color: #00af00; text-decoration-color: #00af00\">64,543</span> │\n",
       "└─────────────────────────────────┴────────────────────────┴───────────────┘\n",
       "</pre>\n"
      ],
      "text/plain": [
       "┏━━━━━━━━━━━━━━━━━━━━━━━━━━━━━━━━━┳━━━━━━━━━━━━━━━━━━━━━━━━┳━━━━━━━━━━━━━━━┓\n",
       "┃\u001b[1m \u001b[0m\u001b[1mLayer (type)                   \u001b[0m\u001b[1m \u001b[0m┃\u001b[1m \u001b[0m\u001b[1mOutput Shape          \u001b[0m\u001b[1m \u001b[0m┃\u001b[1m \u001b[0m\u001b[1m      Param #\u001b[0m\u001b[1m \u001b[0m┃\n",
       "┡━━━━━━━━━━━━━━━━━━━━━━━━━━━━━━━━━╇━━━━━━━━━━━━━━━━━━━━━━━━╇━━━━━━━━━━━━━━━┩\n",
       "│ conv2d (\u001b[38;5;33mConv2D\u001b[0m)                 │ (\u001b[38;5;45mNone\u001b[0m, \u001b[38;5;34m128\u001b[0m, \u001b[38;5;34m128\u001b[0m, \u001b[38;5;34m32\u001b[0m)   │           \u001b[38;5;34m896\u001b[0m │\n",
       "├─────────────────────────────────┼────────────────────────┼───────────────┤\n",
       "│ conv2d_1 (\u001b[38;5;33mConv2D\u001b[0m)               │ (\u001b[38;5;45mNone\u001b[0m, \u001b[38;5;34m126\u001b[0m, \u001b[38;5;34m126\u001b[0m, \u001b[38;5;34m32\u001b[0m)   │         \u001b[38;5;34m9,248\u001b[0m │\n",
       "├─────────────────────────────────┼────────────────────────┼───────────────┤\n",
       "│ max_pooling2d (\u001b[38;5;33mMaxPooling2D\u001b[0m)    │ (\u001b[38;5;45mNone\u001b[0m, \u001b[38;5;34m63\u001b[0m, \u001b[38;5;34m63\u001b[0m, \u001b[38;5;34m32\u001b[0m)     │             \u001b[38;5;34m0\u001b[0m │\n",
       "├─────────────────────────────────┼────────────────────────┼───────────────┤\n",
       "│ conv2d_2 (\u001b[38;5;33mConv2D\u001b[0m)               │ (\u001b[38;5;45mNone\u001b[0m, \u001b[38;5;34m63\u001b[0m, \u001b[38;5;34m63\u001b[0m, \u001b[38;5;34m64\u001b[0m)     │        \u001b[38;5;34m18,496\u001b[0m │\n",
       "├─────────────────────────────────┼────────────────────────┼───────────────┤\n",
       "│ conv2d_3 (\u001b[38;5;33mConv2D\u001b[0m)               │ (\u001b[38;5;45mNone\u001b[0m, \u001b[38;5;34m61\u001b[0m, \u001b[38;5;34m61\u001b[0m, \u001b[38;5;34m64\u001b[0m)     │        \u001b[38;5;34m36,928\u001b[0m │\n",
       "├─────────────────────────────────┼────────────────────────┼───────────────┤\n",
       "│ max_pooling2d_1 (\u001b[38;5;33mMaxPooling2D\u001b[0m)  │ (\u001b[38;5;45mNone\u001b[0m, \u001b[38;5;34m30\u001b[0m, \u001b[38;5;34m30\u001b[0m, \u001b[38;5;34m64\u001b[0m)     │             \u001b[38;5;34m0\u001b[0m │\n",
       "├─────────────────────────────────┼────────────────────────┼───────────────┤\n",
       "│ conv2d_4 (\u001b[38;5;33mConv2D\u001b[0m)               │ (\u001b[38;5;45mNone\u001b[0m, \u001b[38;5;34m30\u001b[0m, \u001b[38;5;34m30\u001b[0m, \u001b[38;5;34m128\u001b[0m)    │        \u001b[38;5;34m73,856\u001b[0m │\n",
       "├─────────────────────────────────┼────────────────────────┼───────────────┤\n",
       "│ conv2d_5 (\u001b[38;5;33mConv2D\u001b[0m)               │ (\u001b[38;5;45mNone\u001b[0m, \u001b[38;5;34m28\u001b[0m, \u001b[38;5;34m28\u001b[0m, \u001b[38;5;34m128\u001b[0m)    │       \u001b[38;5;34m147,584\u001b[0m │\n",
       "├─────────────────────────────────┼────────────────────────┼───────────────┤\n",
       "│ max_pooling2d_2 (\u001b[38;5;33mMaxPooling2D\u001b[0m)  │ (\u001b[38;5;45mNone\u001b[0m, \u001b[38;5;34m14\u001b[0m, \u001b[38;5;34m14\u001b[0m, \u001b[38;5;34m128\u001b[0m)    │             \u001b[38;5;34m0\u001b[0m │\n",
       "├─────────────────────────────────┼────────────────────────┼───────────────┤\n",
       "│ conv2d_6 (\u001b[38;5;33mConv2D\u001b[0m)               │ (\u001b[38;5;45mNone\u001b[0m, \u001b[38;5;34m14\u001b[0m, \u001b[38;5;34m14\u001b[0m, \u001b[38;5;34m256\u001b[0m)    │       \u001b[38;5;34m295,168\u001b[0m │\n",
       "├─────────────────────────────────┼────────────────────────┼───────────────┤\n",
       "│ conv2d_7 (\u001b[38;5;33mConv2D\u001b[0m)               │ (\u001b[38;5;45mNone\u001b[0m, \u001b[38;5;34m12\u001b[0m, \u001b[38;5;34m12\u001b[0m, \u001b[38;5;34m256\u001b[0m)    │       \u001b[38;5;34m590,080\u001b[0m │\n",
       "├─────────────────────────────────┼────────────────────────┼───────────────┤\n",
       "│ max_pooling2d_3 (\u001b[38;5;33mMaxPooling2D\u001b[0m)  │ (\u001b[38;5;45mNone\u001b[0m, \u001b[38;5;34m6\u001b[0m, \u001b[38;5;34m6\u001b[0m, \u001b[38;5;34m256\u001b[0m)      │             \u001b[38;5;34m0\u001b[0m │\n",
       "├─────────────────────────────────┼────────────────────────┼───────────────┤\n",
       "│ flatten (\u001b[38;5;33mFlatten\u001b[0m)               │ (\u001b[38;5;45mNone\u001b[0m, \u001b[38;5;34m9216\u001b[0m)           │             \u001b[38;5;34m0\u001b[0m │\n",
       "├─────────────────────────────────┼────────────────────────┼───────────────┤\n",
       "│ dense (\u001b[38;5;33mDense\u001b[0m)                   │ (\u001b[38;5;45mNone\u001b[0m, \u001b[38;5;34m1500\u001b[0m)           │    \u001b[38;5;34m13,825,500\u001b[0m │\n",
       "├─────────────────────────────────┼────────────────────────┼───────────────┤\n",
       "│ dense_1 (\u001b[38;5;33mDense\u001b[0m)                 │ (\u001b[38;5;45mNone\u001b[0m, \u001b[38;5;34m43\u001b[0m)             │        \u001b[38;5;34m64,543\u001b[0m │\n",
       "└─────────────────────────────────┴────────────────────────┴───────────────┘\n"
      ]
     },
     "metadata": {},
     "output_type": "display_data"
    },
    {
     "data": {
      "text/html": [
       "<pre style=\"white-space:pre;overflow-x:auto;line-height:normal;font-family:Menlo,'DejaVu Sans Mono',consolas,'Courier New',monospace\"><span style=\"font-weight: bold\"> Total params: </span><span style=\"color: #00af00; text-decoration-color: #00af00\">15,062,299</span> (57.46 MB)\n",
       "</pre>\n"
      ],
      "text/plain": [
       "\u001b[1m Total params: \u001b[0m\u001b[38;5;34m15,062,299\u001b[0m (57.46 MB)\n"
      ]
     },
     "metadata": {},
     "output_type": "display_data"
    },
    {
     "data": {
      "text/html": [
       "<pre style=\"white-space:pre;overflow-x:auto;line-height:normal;font-family:Menlo,'DejaVu Sans Mono',consolas,'Courier New',monospace\"><span style=\"font-weight: bold\"> Trainable params: </span><span style=\"color: #00af00; text-decoration-color: #00af00\">15,062,299</span> (57.46 MB)\n",
       "</pre>\n"
      ],
      "text/plain": [
       "\u001b[1m Trainable params: \u001b[0m\u001b[38;5;34m15,062,299\u001b[0m (57.46 MB)\n"
      ]
     },
     "metadata": {},
     "output_type": "display_data"
    },
    {
     "data": {
      "text/html": [
       "<pre style=\"white-space:pre;overflow-x:auto;line-height:normal;font-family:Menlo,'DejaVu Sans Mono',consolas,'Courier New',monospace\"><span style=\"font-weight: bold\"> Non-trainable params: </span><span style=\"color: #00af00; text-decoration-color: #00af00\">0</span> (0.00 B)\n",
       "</pre>\n"
      ],
      "text/plain": [
       "\u001b[1m Non-trainable params: \u001b[0m\u001b[38;5;34m0\u001b[0m (0.00 B)\n"
      ]
     },
     "metadata": {},
     "output_type": "display_data"
    }
   ],
   "source": [
    "model.summary()"
   ]
  },
  {
   "cell_type": "code",
   "execution_count": null,
   "metadata": {
    "colab": {
     "base_uri": "https://localhost:8080/"
    },
    "executionInfo": {
     "elapsed": 706285,
     "status": "ok",
     "timestamp": 1751882525693,
     "user": {
      "displayName": "Marzan Hussain",
      "userId": "14239133555415492211"
     },
     "user_tz": -360
    },
    "id": "RXjsEoD_rNb-",
    "outputId": "1f605f84-2b66-424b-a5f9-bb5d5859ada2"
   },
   "outputs": [
    {
     "name": "stdout",
     "output_type": "stream",
     "text": [
      "Epoch 1/10\n",
      "\u001b[1m981/981\u001b[0m \u001b[32m━━━━━━━━━━━━━━━━━━━━\u001b[0m\u001b[37m\u001b[0m \u001b[1m70s\u001b[0m 61ms/step - accuracy: 0.6576 - loss: 1.5578 - val_accuracy: 0.9645 - val_loss: 0.1780\n",
      "Epoch 2/10\n",
      "\u001b[1m981/981\u001b[0m \u001b[32m━━━━━━━━━━━━━━━━━━━━\u001b[0m\u001b[37m\u001b[0m \u001b[1m47s\u001b[0m 48ms/step - accuracy: 0.9833 - loss: 0.0800 - val_accuracy: 0.9856 - val_loss: 0.0837\n",
      "Epoch 3/10\n",
      "\u001b[1m981/981\u001b[0m \u001b[32m━━━━━━━━━━━━━━━━━━━━\u001b[0m\u001b[37m\u001b[0m \u001b[1m84s\u001b[0m 51ms/step - accuracy: 0.9925 - loss: 0.0354 - val_accuracy: 0.9922 - val_loss: 0.0525\n",
      "Epoch 4/10\n",
      "\u001b[1m981/981\u001b[0m \u001b[32m━━━━━━━━━━━━━━━━━━━━\u001b[0m\u001b[37m\u001b[0m \u001b[1m49s\u001b[0m 50ms/step - accuracy: 0.9919 - loss: 0.0389 - val_accuracy: 0.9923 - val_loss: 0.0546\n",
      "Epoch 5/10\n",
      "\u001b[1m981/981\u001b[0m \u001b[32m━━━━━━━━━━━━━━━━━━━━\u001b[0m\u001b[37m\u001b[0m \u001b[1m81s\u001b[0m 49ms/step - accuracy: 0.9956 - loss: 0.0179 - val_accuracy: 0.9903 - val_loss: 0.0599\n",
      "Epoch 6/10\n",
      "\u001b[1m981/981\u001b[0m \u001b[32m━━━━━━━━━━━━━━━━━━━━\u001b[0m\u001b[37m\u001b[0m \u001b[1m48s\u001b[0m 49ms/step - accuracy: 0.9960 - loss: 0.0201 - val_accuracy: 0.9957 - val_loss: 0.0410\n",
      "Epoch 7/10\n",
      "\u001b[1m981/981\u001b[0m \u001b[32m━━━━━━━━━━━━━━━━━━━━\u001b[0m\u001b[37m\u001b[0m \u001b[1m82s\u001b[0m 48ms/step - accuracy: 0.9981 - loss: 0.0109 - val_accuracy: 0.9964 - val_loss: 0.0299\n",
      "Epoch 8/10\n",
      "\u001b[1m981/981\u001b[0m \u001b[32m━━━━━━━━━━━━━━━━━━━━\u001b[0m\u001b[37m\u001b[0m \u001b[1m82s\u001b[0m 48ms/step - accuracy: 0.9980 - loss: 0.0163 - val_accuracy: 0.9932 - val_loss: 0.0482\n",
      "Epoch 9/10\n",
      "\u001b[1m981/981\u001b[0m \u001b[32m━━━━━━━━━━━━━━━━━━━━\u001b[0m\u001b[37m\u001b[0m \u001b[1m82s\u001b[0m 48ms/step - accuracy: 0.9959 - loss: 0.0208 - val_accuracy: 0.9943 - val_loss: 0.0405\n",
      "Epoch 10/10\n",
      "\u001b[1m981/981\u001b[0m \u001b[32m━━━━━━━━━━━━━━━━━━━━\u001b[0m\u001b[37m\u001b[0m \u001b[1m47s\u001b[0m 48ms/step - accuracy: 0.9966 - loss: 0.0162 - val_accuracy: 0.9960 - val_loss: 0.0293\n"
     ]
    }
   ],
   "source": [
    "training_history = model.fit(x=training_set, validation_data=validation_set, epochs=10)"
   ]
  },
  {
   "cell_type": "code",
   "execution_count": null,
   "metadata": {
    "colab": {
     "base_uri": "https://localhost:8080/"
    },
    "executionInfo": {
     "elapsed": 15049,
     "status": "ok",
     "timestamp": 1751882540714,
     "user": {
      "displayName": "Marzan Hussain",
      "userId": "14239133555415492211"
     },
     "user_tz": -360
    },
    "id": "aomuQfQ7rSMc",
    "outputId": "c1638cfb-728b-4849-e185-b0c58398be7c"
   },
   "outputs": [
    {
     "name": "stdout",
     "output_type": "stream",
     "text": [
      "\u001b[1m981/981\u001b[0m \u001b[32m━━━━━━━━━━━━━━━━━━━━\u001b[0m\u001b[37m\u001b[0m \u001b[1m15s\u001b[0m 15ms/step - accuracy: 0.9999 - loss: 5.1125e-04\n"
     ]
    }
   ],
   "source": [
    "#Model Evaluation on Training set\n",
    "train_loss, train_acc = model.evaluate(training_set)"
   ]
  },
  {
   "cell_type": "code",
   "execution_count": null,
   "metadata": {
    "colab": {
     "base_uri": "https://localhost:8080/"
    },
    "executionInfo": {
     "elapsed": 26,
     "status": "ok",
     "timestamp": 1751882540744,
     "user": {
      "displayName": "Marzan Hussain",
      "userId": "14239133555415492211"
     },
     "user_tz": -360
    },
    "id": "Uh6OBHj1tk0Y",
    "outputId": "86353287-617f-4548-b142-08268380146c"
   },
   "outputs": [
    {
     "name": "stdout",
     "output_type": "stream",
     "text": [
      "0.00031479483004659414 0.9999362230300903\n"
     ]
    }
   ],
   "source": [
    "print(train_loss, train_acc)"
   ]
  },
  {
   "cell_type": "code",
   "execution_count": null,
   "metadata": {
    "colab": {
     "base_uri": "https://localhost:8080/"
    },
    "executionInfo": {
     "elapsed": 5001,
     "status": "ok",
     "timestamp": 1751882545753,
     "user": {
      "displayName": "Marzan Hussain",
      "userId": "14239133555415492211"
     },
     "user_tz": -360
    },
    "id": "Y7A9B8BCt_hn",
    "outputId": "84a6b7ad-6285-4969-c767-8b1c5ccf3ebb"
   },
   "outputs": [
    {
     "name": "stdout",
     "output_type": "stream",
     "text": [
      "\u001b[1m246/246\u001b[0m \u001b[32m━━━━━━━━━━━━━━━━━━━━\u001b[0m\u001b[37m\u001b[0m \u001b[1m4s\u001b[0m 17ms/step - accuracy: 0.9963 - loss: 0.0243\n"
     ]
    }
   ],
   "source": [
    "#Model on Validation set\n",
    "val_loss, val_acc = model.evaluate(validation_set)"
   ]
  },
  {
   "cell_type": "code",
   "execution_count": null,
   "metadata": {
    "colab": {
     "base_uri": "https://localhost:8080/"
    },
    "executionInfo": {
     "elapsed": 109,
     "status": "ok",
     "timestamp": 1751882545868,
     "user": {
      "displayName": "Marzan Hussain",
      "userId": "14239133555415492211"
     },
     "user_tz": -360
    },
    "id": "Dsc9yxI50GuA",
    "outputId": "f5b95a40-a38b-4685-e3e8-65b2dfd57928"
   },
   "outputs": [
    {
     "name": "stdout",
     "output_type": "stream",
     "text": [
      "0.029326610267162323 0.9960464239120483\n"
     ]
    }
   ],
   "source": [
    "print(val_loss, val_acc)"
   ]
  },
  {
   "cell_type": "code",
   "execution_count": null,
   "metadata": {
    "colab": {
     "base_uri": "https://localhost:8080/"
    },
    "executionInfo": {
     "elapsed": 546,
     "status": "ok",
     "timestamp": 1751882546433,
     "user": {
      "displayName": "Marzan Hussain",
      "userId": "14239133555415492211"
     },
     "user_tz": -360
    },
    "id": "AC53W5y00Gdp",
    "outputId": "dbe152ae-96a5-417b-ee5b-6634c9a623bb"
   },
   "outputs": [
    {
     "name": "stderr",
     "output_type": "stream",
     "text": [
      "WARNING:absl:You are saving your model as an HDF5 file via `model.save()` or `keras.saving.save_model(model)`. This file format is considered legacy. We recommend using instead the native Keras format, e.g. `model.save('my_model.keras')` or `keras.saving.save_model(model, 'my_model.keras')`. \n"
     ]
    }
   ],
   "source": [
    "model.save(\"/content/drive/MyDrive/Colab Notebooks/trained_model.h5\")"
   ]
  },
  {
   "cell_type": "code",
   "execution_count": null,
   "metadata": {
    "colab": {
     "base_uri": "https://localhost:8080/"
    },
    "executionInfo": {
     "elapsed": 197,
     "status": "ok",
     "timestamp": 1751882546632,
     "user": {
      "displayName": "Marzan Hussain",
      "userId": "14239133555415492211"
     },
     "user_tz": -360
    },
    "id": "06GTzpIw0Obb",
    "outputId": "cb2455e4-b5f1-4cc7-f329-6f93af2079db"
   },
   "outputs": [
    {
     "data": {
      "text/plain": [
       "{'accuracy': [0.8558722138404846,\n",
       "  0.9859092235565186,\n",
       "  0.9930821061134338,\n",
       "  0.9939109683036804,\n",
       "  0.9957600235939026,\n",
       "  0.9960150718688965,\n",
       "  0.9974177479743958,\n",
       "  0.9982466101646423,\n",
       "  0.9968758225440979,\n",
       "  0.9976727962493896],\n",
       " 'loss': [0.6205442547798157,\n",
       "  0.06394880264997482,\n",
       "  0.03238270431756973,\n",
       "  0.030040806159377098,\n",
       "  0.018541742116212845,\n",
       "  0.019078660756349564,\n",
       "  0.014591909013688564,\n",
       "  0.009968642145395279,\n",
       "  0.014916510321199894,\n",
       "  0.011782623827457428],\n",
       " 'val_accuracy': [0.9645453095436096,\n",
       "  0.985588550567627,\n",
       "  0.992220401763916,\n",
       "  0.9923478960990906,\n",
       "  0.9903073310852051,\n",
       "  0.9956638216972351,\n",
       "  0.9964290261268616,\n",
       "  0.9932406544685364,\n",
       "  0.9942609071731567,\n",
       "  0.9960464239120483],\n",
       " 'val_loss': [0.17799809575080872,\n",
       "  0.08368130028247833,\n",
       "  0.05246223136782646,\n",
       "  0.054604362696409225,\n",
       "  0.059937432408332825,\n",
       "  0.04098276421427727,\n",
       "  0.029926802963018417,\n",
       "  0.04816196486353874,\n",
       "  0.04052618891000748,\n",
       "  0.02932661771774292]}"
      ]
     },
     "execution_count": 30,
     "metadata": {},
     "output_type": "execute_result"
    }
   ],
   "source": [
    "training_history.history"
   ]
  },
  {
   "cell_type": "code",
   "execution_count": null,
   "metadata": {
    "id": "7JLQ-hqt0Rbi"
   },
   "outputs": [],
   "source": [
    "# Recording History in json\n",
    "import json\n",
    "json_path = \"/content/drive/MyDrive/Colab Notebooks/training_hist.json\"\n",
    "with open(json_path, \"w\") as f:\n",
    "    json.dump(training_history.history, f)"
   ]
  },
  {
   "cell_type": "code",
   "execution_count": null,
   "metadata": {
    "colab": {
     "base_uri": "https://localhost:8080/"
    },
    "executionInfo": {
     "elapsed": 24,
     "status": "ok",
     "timestamp": 1751882546691,
     "user": {
      "displayName": "Marzan Hussain",
      "userId": "14239133555415492211"
     },
     "user_tz": -360
    },
    "id": "CJrmgs2N0Wuw",
    "outputId": "930d2e6f-1e28-42ca-dc32-e57614274f72"
   },
   "outputs": [
    {
     "data": {
      "text/plain": [
       "[0.8558722138404846,\n",
       " 0.9859092235565186,\n",
       " 0.9930821061134338,\n",
       " 0.9939109683036804,\n",
       " 0.9957600235939026,\n",
       " 0.9960150718688965,\n",
       " 0.9974177479743958,\n",
       " 0.9982466101646423,\n",
       " 0.9968758225440979,\n",
       " 0.9976727962493896]"
      ]
     },
     "execution_count": 32,
     "metadata": {},
     "output_type": "execute_result"
    }
   ],
   "source": [
    "training_history.history[\"accuracy\"]"
   ]
  },
  {
   "cell_type": "code",
   "execution_count": null,
   "metadata": {
    "colab": {
     "base_uri": "https://localhost:8080/",
     "height": 472
    },
    "executionInfo": {
     "elapsed": 85,
     "status": "ok",
     "timestamp": 1751882546783,
     "user": {
      "displayName": "Marzan Hussain",
      "userId": "14239133555415492211"
     },
     "user_tz": -360
    },
    "id": "a80uE_Ru0Yqq",
    "outputId": "82ced0ed-eca6-4d6b-f5fb-cdd1af175b10"
   },
   "outputs": [
    {
     "data": {
      "image/png": "[encoded data removed]",
      "text/plain": [
       "<Figure size 640x480 with 1 Axes>"
      ]
     },
     "metadata": {},
     "output_type": "display_data"
    }
   ],
   "source": [
    "epochs = [i for i in range(1, 11)]\n",
    "plt.plot(epochs, training_history.history[\"accuracy\"], color='red', label='Training Accuracy')\n",
    "plt.plot(epochs, training_history.history[\"val_accuracy\"], color='blue', label='Validization Accuracy')\n",
    "plt.xlabel(\"Number of Epochs\")\n",
    "plt.ylabel(\"Accuracy Result\")\n",
    "plt.title(\"Visualization of Accuracy Result\")\n",
    "plt.legend()\n",
    "plt.show()"
   ]
  },
  {
   "cell_type": "code",
   "execution_count": null,
   "metadata": {
    "colab": {
     "base_uri": "https://localhost:8080/"
    },
    "executionInfo": {
     "elapsed": 15,
     "status": "ok",
     "timestamp": 1751882546803,
     "user": {
      "displayName": "Marzan Hussain",
      "userId": "14239133555415492211"
     },
     "user_tz": -360
    },
    "id": "JbCEkBxg0b7i",
    "outputId": "7ce9b541-4916-46af-bcef-3a7a12015968"
   },
   "outputs": [
    {
     "data": {
      "text/plain": [
       "['Ahead only',\n",
       " 'Beware of icesnow',\n",
       " 'Bicycles crossing',\n",
       " 'Bumpy road',\n",
       " 'Children crossing',\n",
       " 'Dangerous curve to the left',\n",
       " 'Dangerous curve to the right',\n",
       " 'Double curve',\n",
       " 'End no passing veh  3.5 tons',\n",
       " 'End of Speed Limit 80',\n",
       " 'End of no passing',\n",
       " 'End speed + passing limits',\n",
       " 'General caution',\n",
       " 'Go straight or left',\n",
       " 'Go straight or right',\n",
       " 'Keep left',\n",
       " 'Keep right',\n",
       " 'No entry',\n",
       " 'No passing',\n",
       " 'No passing for vechiles over 3.5 metric tons',\n",
       " 'No vechiles',\n",
       " 'Pedestrians',\n",
       " 'Priority road',\n",
       " 'Right-of-way at the next intersection',\n",
       " 'Road narrows on the right',\n",
       " 'Road work',\n",
       " 'Roundabout mandatory',\n",
       " 'Slippery road',\n",
       " 'Speed Limit 100',\n",
       " 'Speed Limit 120',\n",
       " 'Speed Limit 20',\n",
       " 'Speed Limit 30',\n",
       " 'Speed Limit 50',\n",
       " 'Speed Limit 60',\n",
       " 'Speed Limit 70',\n",
       " 'Speed Limit 80',\n",
       " 'Stop',\n",
       " 'Traffic signals',\n",
       " 'Turn left ahead',\n",
       " 'Turn right ahead',\n",
       " 'Vechiles over 3.5 metric tons prohibited',\n",
       " 'Wild animals crossing',\n",
       " 'Yield']"
      ]
     },
     "execution_count": 34,
     "metadata": {},
     "output_type": "execute_result"
    }
   ],
   "source": [
    "class_name = validation_set.class_names\n",
    "class_name"
   ]
  },
  {
   "cell_type": "code",
   "execution_count": null,
   "metadata": {
    "id": "jNGulu4v1Moh"
   },
   "outputs": [],
   "source": []
  }
 ],
 "metadata": {
  "accelerator": "GPU",
  "colab": {
   "gpuType": "T4",
   "provenance": []
  },
  "kernelspec": {
   "display_name": "tf_env",
   "language": "python",
   "name": "python3"
  },
  "language_info": {
   "name": "python",
   "version": "3.11.13"
  }
 },
 "nbformat": 4,
 "nbformat_minor": 0
}
